{
 "cells": [
  {
   "cell_type": "markdown",
   "id": "26ce469e-cdeb-4d6c-b1b6-b036026c145a",
   "metadata": {},
   "source": [
    "### Looping Structures."
   ]
  },
  {
   "cell_type": "markdown",
   "id": "59e80547-4b5b-4321-9e35-34e39eec54c4",
   "metadata": {},
   "source": [
    "### 1. Write a Python program to print the numbers from 1 to 10 using a for loop. "
   ]
  },
  {
   "cell_type": "code",
   "execution_count": 1,
   "id": "26ea7277-7a2b-4038-ab80-6946921154c0",
   "metadata": {},
   "outputs": [
    {
     "name": "stdout",
     "output_type": "stream",
     "text": [
      "1\n",
      "2\n",
      "3\n",
      "4\n",
      "5\n",
      "6\n",
      "7\n",
      "8\n",
      "9\n",
      "10\n"
     ]
    }
   ],
   "source": [
    "for i in range(1,11):\n",
    "    print(i)\n",
    "    i += 1"
   ]
  },
  {
   "cell_type": "markdown",
   "id": "c8785a17-d119-4503-b567-163e9f7a2b6b",
   "metadata": {},
   "source": [
    "### 2. Write a Python program to print the numbers from 20 to 1 using a while loop."
   ]
  },
  {
   "cell_type": "code",
   "execution_count": 2,
   "id": "06508f5a-b116-4cb2-85c0-8e8b986b5908",
   "metadata": {},
   "outputs": [
    {
     "name": "stdout",
     "output_type": "stream",
     "text": [
      "20\n",
      "19\n",
      "18\n",
      "17\n",
      "16\n",
      "15\n",
      "14\n",
      "13\n",
      "12\n",
      "11\n",
      "10\n",
      "9\n",
      "8\n",
      "7\n",
      "6\n",
      "5\n",
      "4\n",
      "3\n",
      "2\n",
      "1\n"
     ]
    }
   ],
   "source": [
    "n = 20\n",
    "while n >= 1:\n",
    "    print(n)\n",
    "    n -= 1"
   ]
  },
  {
   "cell_type": "markdown",
   "id": "531ee270-1ff0-43e1-bb6b-619bc64ad52e",
   "metadata": {},
   "source": [
    "### 3. Write a program to print even numbers from 1 to 10."
   ]
  },
  {
   "cell_type": "code",
   "execution_count": 3,
   "id": "e43bd77e-357e-484f-931c-8bc63defe7ab",
   "metadata": {},
   "outputs": [
    {
     "name": "stdout",
     "output_type": "stream",
     "text": [
      "2\n",
      "4\n",
      "6\n",
      "8\n",
      "10\n"
     ]
    }
   ],
   "source": [
    "for number in range(1,11):\n",
    "    if number % 2 == 0:\n",
    "        print(number)"
   ]
  },
  {
   "cell_type": "markdown",
   "id": "2a1943d6-c3f6-4311-b0e1-95d152732f6a",
   "metadata": {},
   "source": [
    "### 4. Write a program that prompts the user to enter a number n and prints all the numbers from 1 to n. "
   ]
  },
  {
   "cell_type": "code",
   "execution_count": 4,
   "id": "5f304b7a-ecf7-4902-9b49-07db99bbd01d",
   "metadata": {},
   "outputs": [
    {
     "name": "stdout",
     "output_type": "stream",
     "text": [
      "Enter a number: 5\n"
     ]
    },
    {
     "name": "stdout",
     "output_type": "stream",
     "text": [
      "1\n",
      "2\n",
      "3\n",
      "4\n",
      "5\n"
     ]
    }
   ],
   "source": [
    "n = int(input(\"Enter a number:\"))\n",
    "for i in range(1, n + 1):\n",
    "    print(i)"
   ]
  },
  {
   "cell_type": "markdown",
   "id": "0028c829-f4ea-47d4-a786-31861dc3955e",
   "metadata": {},
   "source": [
    "### 5. Write a program that prompts the user to enter a number n, and then prints all the odd numbers between 1 and n. "
   ]
  },
  {
   "cell_type": "code",
   "execution_count": 5,
   "id": "9cb4d384-fd6d-41d8-bd5b-f9962890490a",
   "metadata": {},
   "outputs": [
    {
     "name": "stdout",
     "output_type": "stream",
     "text": [
      "Enter a number: 11\n"
     ]
    },
    {
     "name": "stdout",
     "output_type": "stream",
     "text": [
      "1\n",
      "3\n",
      "5\n",
      "7\n",
      "9\n",
      "11\n"
     ]
    }
   ],
   "source": [
    "a = int(input(\"Enter a number:\"))\n",
    "for i in range(1, a + 1, 2):\n",
    "    print(i)"
   ]
  },
  {
   "cell_type": "markdown",
   "id": "b51bf29a-46b1-4e5c-881e-b6395eb23225",
   "metadata": {},
   "source": [
    "### 6. Write a program that prints 'Happy Birthday!' five times on screen. "
   ]
  },
  {
   "cell_type": "code",
   "execution_count": 6,
   "id": "e8b24767-6eb2-4526-8ee6-7a0e9dfbd4e9",
   "metadata": {},
   "outputs": [
    {
     "name": "stdout",
     "output_type": "stream",
     "text": [
      "1 Happy Birthday!\n",
      "2 Happy Birthday!\n",
      "3 Happy Birthday!\n",
      "4 Happy Birthday!\n",
      "5 Happy Birthday!\n"
     ]
    }
   ],
   "source": [
    "for i in range(1,6):\n",
    "    print(i,\"Happy Birthday!\")"
   ]
  },
  {
   "cell_type": "markdown",
   "id": "2f252183-65fd-49d9-a760-ce198f9a7cbb",
   "metadata": {},
   "source": [
    "### 7. Write a program that takes a number n as input from the user and generates the first \n",
    "* n terms of the series formed by squaring the natural numbers. \n",
    "* Sample output \n",
    "* Enter a number: 6 \n",
    "* The first 6 terms of the series are: \n",
    "* 1 4 9 16 25 36 \n",
    "* 36 \n"
   ]
  },
  {
   "cell_type": "code",
   "execution_count": 7,
   "id": "c6873cc6-bef7-4a7b-9aa6-11a52b8088bc",
   "metadata": {},
   "outputs": [
    {
     "name": "stdout",
     "output_type": "stream",
     "text": [
      "Enter a number: 6\n"
     ]
    },
    {
     "name": "stdout",
     "output_type": "stream",
     "text": [
      "1\n",
      "4\n",
      "9\n",
      "16\n",
      "25\n",
      "36\n"
     ]
    }
   ],
   "source": [
    "n = int(input(\"Enter a number:\"))\n",
    "for i in range(1, n + 1):\n",
    "    print(i ** 2)"
   ]
  },
  {
   "cell_type": "markdown",
   "id": "a1f06d60-0310-491a-8275-7acbfca86696",
   "metadata": {},
   "source": [
    "### 8. Write a program that prompts the user to input a number and prints its multiplication table."
   ]
  },
  {
   "cell_type": "code",
   "execution_count": 8,
   "id": "d24f6021-2f90-4f5e-87d5-d20604f5e14d",
   "metadata": {},
   "outputs": [
    {
     "name": "stdout",
     "output_type": "stream",
     "text": [
      "Enter a number: 7\n"
     ]
    },
    {
     "name": "stdout",
     "output_type": "stream",
     "text": [
      "7 x 1 = 7\n",
      "7 x 2 = 14\n",
      "7 x 3 = 21\n",
      "7 x 4 = 28\n",
      "7 x 5 = 35\n",
      "7 x 6 = 42\n",
      "7 x 7 = 49\n",
      "7 x 8 = 56\n",
      "7 x 9 = 63\n",
      "7 x 10 = 70\n"
     ]
    }
   ],
   "source": [
    "n = int(input(\"Enter a number:\"))\n",
    "for i in range(1,11):\n",
    "    print(f\"{n} x {i} = {n * i}\")"
   ]
  },
  {
   "cell_type": "markdown",
   "id": "5b41119d-4684-4fb6-b05f-df4c3a1a25e7",
   "metadata": {},
   "source": [
    "### 9. Write a Python program to print the first 8 terms of an arithmetic progression \n",
    "* starting with 3 and having a common difference of 4. \n",
    "* The program should output the following sequence: \n",
    "* 3 7 11 15 19 23 27 31 31 "
   ]
  },
  {
   "cell_type": "code",
   "execution_count": 1,
   "id": "0dcf86fc-e9e2-4146-adc0-cb0e56227ac8",
   "metadata": {},
   "outputs": [
    {
     "name": "stdout",
     "output_type": "stream",
     "text": [
      "3\n",
      "7\n",
      "11\n",
      "15\n",
      "19\n",
      "23\n",
      "27\n",
      "31\n"
     ]
    }
   ],
   "source": [
    "initial = 3\n",
    "common_difference = 4\n",
    "for i in range(8):\n",
    "    final = initial + (i * common_difference)\n",
    "    print(final)"
   ]
  },
  {
   "cell_type": "markdown",
   "id": "789f4f55-ff50-4e5e-866a-9ad0ecc07dc7",
   "metadata": {},
   "source": [
    "### 10. Write a Python program to print the first 6 terms of a geometric sequence  \n",
    "* starting with 2 and having a common ratio of 3. \n",
    "* The program should output the following sequence: \n",
    "* 2 6 18 54 162 486 "
   ]
  },
  {
   "cell_type": "code",
   "execution_count": 2,
   "id": "a01aef64-000e-46b5-844d-8b3f1d776719",
   "metadata": {},
   "outputs": [
    {
     "name": "stdout",
     "output_type": "stream",
     "text": [
      "2\n",
      "6\n",
      "18\n",
      "54\n",
      "162\n",
      "486\n"
     ]
    }
   ],
   "source": [
    "start = 2\n",
    "ratio = 3\n",
    "for i in range(6):\n",
    "    term = start * (ratio ** i)\n",
    "    print(term)"
   ]
  },
  {
   "cell_type": "markdown",
   "id": "373e023e-c79f-4d25-937c-2a195aa41545",
   "metadata": {},
   "source": [
    "### 11. Write a program that asks the user for a positive integer value. The program should calculate the sum of all the integers from 1 up to the number entered. For example, if the user enters 20, the loop will find the sum of 1, 2, 3, 4, ... 20. \n"
   ]
  },
  {
   "cell_type": "code",
   "execution_count": 5,
   "id": "1c032bca-dcba-44af-8706-b53d70f2f493",
   "metadata": {},
   "outputs": [
    {
     "name": "stdin",
     "output_type": "stream",
     "text": [
      "Enter a number: 12\n"
     ]
    },
    {
     "name": "stdout",
     "output_type": "stream",
     "text": [
      "1\n",
      "3\n",
      "6\n",
      "10\n",
      "15\n",
      "21\n",
      "28\n",
      "36\n",
      "45\n",
      "55\n",
      "66\n",
      "78\n"
     ]
    }
   ],
   "source": [
    "n = int(input(\"Enter a number:\"))\n",
    "add = 0\n",
    "for i in range(1,n + 1):\n",
    "    add += i\n",
    "    print(add)"
   ]
  },
  {
   "cell_type": "markdown",
   "id": "0a4af486-dac5-4289-8bc2-136e5c2ffded",
   "metadata": {},
   "source": [
    "### 12. write a program that takes a positive integer N as input and calculates the sum of the reciprocals of all numbers from 1 up to N. The program should display the final sum. \n",
    "* Output of the program should be like: \n",
    "* Enter a positive integer: 5 \n",
    "* The sum of reciprocals from 1 to 5 is: 2.28"
   ]
  },
  {
   "cell_type": "code",
   "execution_count": 6,
   "id": "976d4cce-9df4-4ef1-9690-2b98b925d299",
   "metadata": {},
   "outputs": [
    {
     "name": "stdin",
     "output_type": "stream",
     "text": [
      "Enter a positive integer:  12\n"
     ]
    },
    {
     "name": "stdout",
     "output_type": "stream",
     "text": [
      "The sum of reciprocals from 1 to 12 is: 3.103210678210678\n"
     ]
    }
   ],
   "source": [
    "a = int(input(\"Enter a positive integer: \"))\n",
    "sum_reciprocal = 0.0\n",
    "for i in range(1, a + 1):\n",
    "    sum_reciprocal += 1 / i\n",
    "    \n",
    "print(f\"The sum of reciprocals from 1 to {a} is: {sum_reciprocal}\")"
   ]
  },
  {
   "cell_type": "markdown",
   "id": "bab26757-e481-4658-a72d-1aab828e03f5",
   "metadata": {},
   "source": [
    "### 13. Write a program that prompts the user to enter a number and repeats this process 5 times. The program should accumulate the numbers entered and then display the final running total. \n",
    "* Sample Output: \n",
    "* Enter a number: 10 \n",
    "* Enter a number: 15 \n",
    "* Enter a number: 35 \n",
    "* Enter a number: 40 \n",
    "* Enter a number: 50 \n",
    "* The final running total is: 150 "
   ]
  },
  {
   "cell_type": "code",
   "execution_count": 13,
   "id": "575b6d4a-856a-4694-88b9-0af9de85e835",
   "metadata": {},
   "outputs": [
    {
     "name": "stdout",
     "output_type": "stream",
     "text": [
      "Enter a number: 10\n",
      "Enter a number: 15\n",
      "Enter a number: 35\n",
      "Enter a number: 40\n",
      "Enter a number: 50\n"
     ]
    },
    {
     "name": "stdout",
     "output_type": "stream",
     "text": [
      "The final running total is: 150\n"
     ]
    }
   ],
   "source": [
    "sum = 0\n",
    "for i in range(5):\n",
    "    a = int(input(\"Enter a number:\"))\n",
    "    sum += a\n",
    "\n",
    "print(\"The full running total is:\", sum)"
   ]
  },
  {
   "cell_type": "markdown",
   "id": "9292c00d-7357-421b-9e31-6ededa0bf40f",
   "metadata": {},
   "source": [
    "### 14. Write a program that prompts the user to enter a positive integer and calculates its factorial. The factorial of a positive integer 'n' is denoted as 'n!' and is calculated by multiplying all the integers from 1 to 'n' together. For example, the factorial of 5 (denoted as 5!) is calculated as 1 x 2 x 3 x 4 x 5. \n",
    "#### The program should display the factorial value if the input is a positive number, or display a message stating that the factorial does not exist for negative numbers. Additionally, for an input of zero, the program should output that the factorial of 0 is 1."
   ]
  },
  {
   "cell_type": "code",
   "execution_count": 14,
   "id": "6962486d-b0b1-4b1e-8653-9f2fb10bd5a1",
   "metadata": {},
   "outputs": [
    {
     "name": "stdout",
     "output_type": "stream",
     "text": [
      "Enter a positive integer:  5\n"
     ]
    },
    {
     "name": "stdout",
     "output_type": "stream",
     "text": [
      "1\n",
      "2\n",
      "6\n",
      "24\n",
      "120\n",
      "The factorial of 5! is 120.\n"
     ]
    }
   ],
   "source": [
    "num = int(input(\"Enter a positive integer: \"))\n",
    "fact = 1\n",
    "for i in range(1, n + 1):\n",
    "    fact *= i\n",
    "    print(fact)\n",
    "if num < 0:\n",
    "    print(\"Factorial does not exist for negative numbers.\")\n",
    "elif num > 0:\n",
    "    print(f\"The factorial of {num}! is {fact}.\")\n",
    "elif num == 0:\n",
    "    print(f\"The factorial of {num}! is 1.\")\n",
    "else :\n",
    "    print(None)"
   ]
  },
  {
   "cell_type": "markdown",
   "id": "fad69955-76dd-409f-a065-ac19d62f3aea",
   "metadata": {},
   "source": [
    "### 15. Write a Python program that prompts the user to enter a base number and an exponent, and then calculates the power of the base to the exponent. The program should not use the exponentiation operator (**) or the math.pow() function. The program should handle both positive and negative exponents. "
   ]
  },
  {
   "cell_type": "code",
   "execution_count": 15,
   "id": "e21ea491-e8ca-494d-b871-0973bebb4a92",
   "metadata": {},
   "outputs": [
    {
     "name": "stdout",
     "output_type": "stream",
     "text": [
      "Enter the base number:  22\n",
      "Enter the exponent:  1\n"
     ]
    },
    {
     "name": "stdout",
     "output_type": "stream",
     "text": [
      "22.0 raised to the power of 1 is: 22.0\n"
     ]
    }
   ],
   "source": [
    "final_result = 1\n",
    "base = float(input(\"Enter the base number: \"))\n",
    "exponent = int(input(\"Enter the exponent: \"))       \n",
    "if exponent > 0:\n",
    "    for i in range(exponent):\n",
    "        final_result *= base\n",
    "elif exponent < 0:\n",
    "    for i in range(-exponent):\n",
    "        result *= base\n",
    "        result = 1 / result\n",
    "else:\n",
    "    print(final_result)\n",
    "\n",
    "print(f\"{base} raised to the power of {exponent} is: {base ** exponent}\")"
   ]
  },
  {
   "cell_type": "code",
   "execution_count": null,
   "id": "e5a8a657-f950-4990-9da3-9fac7e22dcc1",
   "metadata": {},
   "outputs": [],
   "source": []
  }
 ],
 "metadata": {
  "kernelspec": {
   "display_name": "Python 3 (ipykernel)",
   "language": "python",
   "name": "python3"
  },
  "language_info": {
   "codemirror_mode": {
    "name": "ipython",
    "version": 3
   },
   "file_extension": ".py",
   "mimetype": "text/x-python",
   "name": "python",
   "nbconvert_exporter": "python",
   "pygments_lexer": "ipython3",
   "version": "3.11.7"
  }
 },
 "nbformat": 4,
 "nbformat_minor": 5
}
