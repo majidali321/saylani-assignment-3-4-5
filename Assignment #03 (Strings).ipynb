{
 "cells": [
  {
   "cell_type": "markdown",
   "id": "9cebc282-c099-44f6-971e-5dfde5ef7062",
   "metadata": {},
   "source": [
    "### 1. Write a program that accepts a string from user. Your program should count and display number of vowels in that string.  "
   ]
  },
  {
   "cell_type": "code",
   "execution_count": 1,
   "id": "1eed1f56-08f6-4d86-af94-19857b60c1fa",
   "metadata": {},
   "outputs": [
    {
     "name": "stdout",
     "output_type": "stream",
     "text": [
      "vowels : ['a', 'i']\n",
      "vowels count : 2\n"
     ]
    }
   ],
   "source": [
    "user = \"pakistan flag\"\n",
    "vowels = [\"a\", \"e\", \"i\", \"o\", \"u\"]\n",
    "result = []\n",
    "for i in vowels:\n",
    "    if i in user:\n",
    "        result.append(i)\n",
    "print(f\"vowels : {result}\")\n",
    "print(f\"vowels count : {len(result)}\")"
   ]
  },
  {
   "cell_type": "markdown",
   "id": "a1b77d47-d809-4b7b-9a30-446c4284d833",
   "metadata": {},
   "source": [
    "### 2. Write a program that reads a string from keyboard and display: \n",
    "* The number of uppercase letters in the string \n",
    "* The number of lowercase letters in the string \n",
    "* The number of digits in the string \n",
    "* The number of whitespace characters in the string "
   ]
  },
  {
   "cell_type": "code",
   "execution_count": 2,
   "id": "2fb06823-63c1-45e3-8e6f-c3010b446181",
   "metadata": {},
   "outputs": [
    {
     "name": "stdin",
     "output_type": "stream",
     "text": [
      "Enter a string:  Hamza aslam 276\n"
     ]
    },
    {
     "name": "stdout",
     "output_type": "stream",
     "text": [
      "Uppercase letters: 1\n",
      "Lowercase letters: 9\n",
      "Digits: 3\n",
      "Whitespace characters: 2\n"
     ]
    }
   ],
   "source": [
    "string = input(\"Enter a string: \")\n",
    "\n",
    "uppercase_count = 0\n",
    "lowercase_count = 0\n",
    "digit_count = 0\n",
    "whitespace_count = 0\n",
    "\n",
    "for i in string:\n",
    "    if i.isupper():\n",
    "        uppercase_count += 1\n",
    "    elif i.islower():\n",
    "        lowercase_count += 1\n",
    "    elif i.isdigit():\n",
    "        digit_count += 1\n",
    "    elif i.isspace():\n",
    "        whitespace_count += 1\n",
    "\n",
    "print(f\"Uppercase letters: {uppercase_count}\")\n",
    "print(f\"Lowercase letters: {lowercase_count}\")\n",
    "print(f\"Digits: {digit_count}\")\n",
    "print(f\"Whitespace characters: {whitespace_count}\")"
   ]
  },
  {
   "cell_type": "markdown",
   "id": "44aa4bcc-59c3-424e-9960-4c1ae285f0bf",
   "metadata": {},
   "source": [
    "### 3. Write a Python program that accepts a string from user. Your program should create and display a new string where the first and last characters have been exchanged. \n",
    "* For example if the user enters the string 'HELLO' then new string would be 'OELLH'"
   ]
  },
  {
   "cell_type": "code",
   "execution_count": 3,
   "id": "851f58ec-e899-4163-bcb8-18ad3c434140",
   "metadata": {},
   "outputs": [
    {
     "name": "stdin",
     "output_type": "stream",
     "text": [
      "Enter a string:  HELLO\n"
     ]
    },
    {
     "name": "stdout",
     "output_type": "stream",
     "text": [
      "OELLH\n"
     ]
    }
   ],
   "source": [
    "user = input(\"Enter a string: \")\n",
    "print(user[-1] + user[1:4] + user[0])"
   ]
  },
  {
   "cell_type": "markdown",
   "id": "667c3d74-4ada-4983-923a-94aca0a23721",
   "metadata": {},
   "source": [
    "### 4. Write a Python program that accepts a string from user. Your program should create a new string in reverse of first string and display it. \n",
    "* For example if the user enters the string 'EXAM' then new string would be 'MAXE' "
   ]
  },
  {
   "cell_type": "code",
   "execution_count": 4,
   "id": "54c8c5b1-0daf-4728-bcb0-4fc89a538bb4",
   "metadata": {},
   "outputs": [
    {
     "name": "stdin",
     "output_type": "stream",
     "text": [
      "Enter a string:  EXAM\n"
     ]
    },
    {
     "name": "stdout",
     "output_type": "stream",
     "text": [
      "New string: MAXE\n"
     ]
    }
   ],
   "source": [
    "user = input(\"Enter a string: \")\n",
    "print(f\"New string: {user[::-1]}\")"
   ]
  },
  {
   "cell_type": "markdown",
   "id": "db19170f-9186-4dc8-9743-b5f3383e5105",
   "metadata": {},
   "source": [
    "### 5. Write a Python program that accepts a string from user. Your program should create a new string by shifting one position to left. \n",
    "* For example if the user enters the string 'examination 2021' then new string would be 'xamination 2021e' "
   ]
  },
  {
   "cell_type": "code",
   "execution_count": 5,
   "id": "8b9bcd1a-bfe5-46e9-89fb-dc2f5a9f1e25",
   "metadata": {},
   "outputs": [
    {
     "name": "stdin",
     "output_type": "stream",
     "text": [
      "Enter a string: examination 2021\n"
     ]
    },
    {
     "name": "stdout",
     "output_type": "stream",
     "text": [
      "New string: xamination 2021e\n"
     ]
    }
   ],
   "source": [
    "user = input(\"Enter a string:\")\n",
    "print(f\"New string: {user[1:] + user[0]}\")"
   ]
  },
  {
   "cell_type": "markdown",
   "id": "49ef8824-0e77-42f9-b0a3-606db8f96bd3",
   "metadata": {},
   "source": [
    "### 6. Write a program that asks the user to input his name and print its initials. Assuming that the user always types first name, middle name and last name and does not include any unnecessary spaces. \n",
    "* For example, if the user enters Ajay Kumar Garg the program should display A. K. G. \n",
    "Note:Don't use split() method "
   ]
  },
  {
   "cell_type": "code",
   "execution_count": 6,
   "id": "a362b09c-77dd-4b01-bb68-4172cedd7e55",
   "metadata": {},
   "outputs": [
    {
     "name": "stdin",
     "output_type": "stream",
     "text": [
      "Enter Full name:  Mian hamza aslam\n"
     ]
    },
    {
     "name": "stdout",
     "output_type": "stream",
     "text": [
      "Name initials:  M. H. A. \n"
     ]
    }
   ],
   "source": [
    "full_name = input(\"Enter Full name: \")\n",
    "initials = \"\"\n",
    "for i in range(len(full_name)):\n",
    "    if i == 0  or full_name[i-1] == \" \":\n",
    "        initials += full_name[i].upper() + \". \"\n",
    "        \n",
    "print(\"Name initials: \", initials) "
   ]
  },
  {
   "cell_type": "markdown",
   "id": "c4a53c5b-4106-4dfc-a08d-d69cbef6b385",
   "metadata": {},
   "source": [
    "### 7. A palindrome is a string that reads the same backward as forward. For example, the words dad, madam and radar are all palindromes. Write a programs that determines whether the string is a palindrome. \n",
    "* Note: do not use reverse() method \n"
   ]
  },
  {
   "cell_type": "code",
   "execution_count": 7,
   "id": "84022c9b-714e-4b7f-b933-3ffd5084974f",
   "metadata": {},
   "outputs": [
    {
     "name": "stdin",
     "output_type": "stream",
     "text": [
      "Enter a string:  dad\n"
     ]
    },
    {
     "name": "stdout",
     "output_type": "stream",
     "text": [
      "The string is a palindrome.\n"
     ]
    }
   ],
   "source": [
    "string = input(\"Enter a string: \")\n",
    "if string == string[::-1]:\n",
    "    print(\"The string is a palindrome.\")\n",
    "else:\n",
    "    print(\"The string is a not palindrome.\")"
   ]
  },
  {
   "cell_type": "markdown",
   "id": "4c2a0d0d-574a-4c7d-8fa1-08ca405f37a7",
   "metadata": {},
   "source": [
    "### 8. Write a program that display following output: \n",
    "* SHIFT \n",
    "* HIFTS \n",
    "* IFTSH \n",
    "* FTSHI \n",
    "* TSHIF \n",
    "* SHIFT "
   ]
  },
  {
   "cell_type": "code",
   "execution_count": 8,
   "id": "fe52f765-3301-484a-a17b-610190bc46ea",
   "metadata": {},
   "outputs": [
    {
     "name": "stdout",
     "output_type": "stream",
     "text": [
      "SHIFT\n",
      "HIFTS\n",
      "IFTSH\n",
      "FTSHI\n",
      "TSHIF\n",
      "SHIFT\n"
     ]
    }
   ],
   "source": [
    "word = \"SHIFT\"\n",
    "for i in range(len(word) + 1):\n",
    "    print(word[i:] + word[:i])"
   ]
  },
  {
   "cell_type": "markdown",
   "id": "c5fc8c53-91a5-4828-8d19-fa9f6cd94d68",
   "metadata": {},
   "source": [
    "### 9. Write a program in python that accepts a string to setup a passwords. Your entered password must meet the following requirements:\n",
    "* The password must be at least eight characters long. \n",
    "* It must contain at least one uppercase letter. \n",
    "* It must contain at least one lowercase letter. \n",
    "* It must contain at least one numeric digit. \n",
    "* Your program should should perform this validation."
   ]
  },
  {
   "cell_type": "code",
   "execution_count": 9,
   "id": "25a77cce-e406-4758-a1e8-827bb451ab38",
   "metadata": {},
   "outputs": [
    {
     "name": "stdin",
     "output_type": "stream",
     "text": [
      "Enter a password: Hamza aslam 276\n"
     ]
    },
    {
     "name": "stdout",
     "output_type": "stream",
     "text": [
      "Password is Valid.\n"
     ]
    }
   ],
   "source": [
    "password = input(\"Enter a password:\")\n",
    "if len(password) < 8:\n",
    "    print(\"The password must be at least eight characters long.\")\n",
    "elif not any(char.isupper() for char in password):\n",
    "    print(\"It must contain at least one uppercase letter.\")\n",
    "elif not any(char.islower() for char in password):\n",
    "    print(\"It must contain at least one lowercase letter.\")\n",
    "elif not any(char.isdigit() for char in password):\n",
    "    print(\"It must contain at least one numeric digit.\")\n",
    "else:\n",
    "    print(\"Password is Valid.\")"
   ]
  },
  {
   "cell_type": "code",
   "execution_count": null,
   "id": "4cebea3f-f2b5-4bcb-8375-e030069726a4",
   "metadata": {},
   "outputs": [],
   "source": []
  }
 ],
 "metadata": {
  "kernelspec": {
   "display_name": "Python 3 (ipykernel)",
   "language": "python",
   "name": "python3"
  },
  "language_info": {
   "codemirror_mode": {
    "name": "ipython",
    "version": 3
   },
   "file_extension": ".py",
   "mimetype": "text/x-python",
   "name": "python",
   "nbconvert_exporter": "python",
   "pygments_lexer": "ipython3",
   "version": "3.11.7"
  }
 },
 "nbformat": 4,
 "nbformat_minor": 5
}
